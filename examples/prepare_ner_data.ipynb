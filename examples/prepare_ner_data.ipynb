{
 "cells": [
  {
   "cell_type": "code",
   "execution_count": 1,
   "metadata": {},
   "outputs": [],
   "source": [
    "from nlp_utils.data_utils import text2bio_label_with_exactly_match, text2bmes_label_with_exactly_match"
   ]
  },
  {
   "cell_type": "code",
   "execution_count": 2,
   "metadata": {},
   "outputs": [
    {
     "data": {
      "text/plain": [
       "([['O', 'O', 'B-外国人', 'M-外国人', 'M-外国人'],\n",
       "  ['M-外国人', 'M-外国人', 'M-外国人', 'E-外国人'],\n",
       "  ['B-中国人', 'M-中国人', 'E-中国人', 'O', 'O', 'O']],\n",
       " [('中国人', 9, 12), ('外国人', 2, 9)])"
      ]
     },
     "execution_count": 2,
     "metadata": {},
     "output_type": "execute_result"
    }
   ],
   "source": [
    "transcripts = ['他是Dan', 'Mark', '刘德华是男性']\n",
    "exactly_entities_label = [['中国人', '刘德华'], ['外国人', 'DanMark']]\n",
    "text2bmes_label_with_exactly_match(transcripts, exactly_entities_label)"
   ]
  }
 ],
 "metadata": {
  "kernelspec": {
   "display_name": "Python 3.9.9 ('torch')",
   "language": "python",
   "name": "python3"
  },
  "language_info": {
   "codemirror_mode": {
    "name": "ipython",
    "version": 3
   },
   "file_extension": ".py",
   "mimetype": "text/x-python",
   "name": "python",
   "nbconvert_exporter": "python",
   "pygments_lexer": "ipython3",
   "version": "3.9.9"
  },
  "orig_nbformat": 4,
  "vscode": {
   "interpreter": {
    "hash": "adced27be9bf1b5ea56d0bed8a5d0c623d07f029dc70a0803591affe997e5618"
   }
  }
 },
 "nbformat": 4,
 "nbformat_minor": 2
}
