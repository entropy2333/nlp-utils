{
 "cells": [
  {
   "cell_type": "code",
   "execution_count": 1,
   "metadata": {},
   "outputs": [],
   "source": [
    "from nlp_utils.file_utils import group_files_by_lambda\n",
    "from pathlib import Path"
   ]
  },
  {
   "cell_type": "code",
   "execution_count": 5,
   "metadata": {},
   "outputs": [
    {
     "name": "stdout",
     "output_type": "stream",
     "text": [
      "len(files): 2707\n"
     ]
    }
   ],
   "source": [
    "file_dir = '/Users/entropy2333/Documents/照片/FUJI_20240417_重庆成都/PG/'\n",
    "file_dir = Path(file_dir)\n",
    "files = list(file_dir.glob('**/*'))\n",
    "print(f'len(files): {len(files)}')"
   ]
  },
  {
   "cell_type": "code",
   "execution_count": 6,
   "metadata": {},
   "outputs": [
    {
     "name": "stderr",
     "output_type": "stream",
     "text": [
      "2024-05-08 15:40:13.064 | INFO     | nlp_utils.file_utils:group_files_by_lambda:344 - Group 2707 files to /Users/entropy2333/Documents/照片/FUJI_20240417_重庆成都/\n"
     ]
    }
   ],
   "source": [
    "group_files_by_lambda(\n",
    "    files,\n",
    "    output_dir='/Users/entropy2333/Documents/照片/FUJI_20240417_重庆成都/',\n",
    "    output_dir_prefix='FUJI_',\n",
    "    group_func=lambda x: Path(x).suffix.upper()\n",
    ")"
   ]
  }
 ],
 "metadata": {
  "kernelspec": {
   "display_name": "torch",
   "language": "python",
   "name": "python3"
  },
  "language_info": {
   "codemirror_mode": {
    "name": "ipython",
    "version": 3
   },
   "file_extension": ".py",
   "mimetype": "text/x-python",
   "name": "python",
   "nbconvert_exporter": "python",
   "pygments_lexer": "ipython3",
   "version": "3.9.9"
  }
 },
 "nbformat": 4,
 "nbformat_minor": 2
}
